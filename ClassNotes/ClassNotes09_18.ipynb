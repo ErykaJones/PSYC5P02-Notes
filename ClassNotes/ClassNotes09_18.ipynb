{
 "cells": [
  {
   "cell_type": "code",
   "execution_count": 1,
   "id": "ee863a6d-cdc5-4d25-bb2e-21093f90c84f",
   "metadata": {},
   "outputs": [
    {
     "name": "stdout",
     "output_type": "stream",
     "text": [
      "hello world\n",
      "another line\n"
     ]
    }
   ],
   "source": [
    "print('hello world')\n",
    "print ('another line')"
   ]
  },
  {
   "cell_type": "markdown",
   "id": "ea51a95e-9129-4791-a066-d1408936c3d1",
   "metadata": {},
   "source": [
    "1 + 1"
   ]
  },
  {
   "cell_type": "code",
   "execution_count": 2,
   "id": "9636ca7e-758c-49d6-97da-d7fb9e8cc341",
   "metadata": {},
   "outputs": [
    {
     "data": {
      "text/plain": [
       "2"
      ]
     },
     "execution_count": 2,
     "metadata": {},
     "output_type": "execute_result"
    }
   ],
   "source": [
    "1 + 1"
   ]
  },
  {
   "cell_type": "markdown",
   "id": "ce034846-f5b4-4d62-9704-205504bab7c0",
   "metadata": {},
   "source": [
    "## Class Notes \n",
    "\n",
    "##### Important things to know\n",
    "- to make code run - ctrl + enter\n",
    "- markdown mode - esc + m\n",
    "- strings are denote with quotes while interfers are not\n",
    "- data types\n",
    "      - text type - str (Print ('1+1')\n",
    "      - numeric type - \"interger\" -int and \"floating point\" - float (Print (1+1))\n",
    "- arithmetic operations operate on number types (think int and float)\n",
    "      - +,-,x,/,%(modulus),**(exponent),// (floor division)\n",
    "      - don't need any additional info, if you want to add, just use +\n",
    "- if you want to delete a variable, you use del\n",
    "\n",
    "##### Functions\n",
    "- roung brackets for functions\n",
    "- help(functionName) - like man in bash\n",
    "- variables - held in memory so computer can refer back\n",
    "- x = 1+1\n",
    "- text = 'hello world'\n",
    "- basically assigning a value to both x and text\n",
    "- variable cannot be left empty in this method\n",
    "Variables:\n",
    "    - must start with a letter or underscore\n",
    "    - can only contain numbers, letters, and underscore\n",
    "    - CANNOT start w a number\n",
    "    - case sensitive\n",
    "    - can use camel case\n",
    "    - will be overwritten when you assign a new value to it\n",
    "    - only integer to integer or string to string\n",
    "    - type(var) will tell you variable type\n",
    "\n",
    "##### Errors\n",
    "- error tells you what you did wrong\n",
    "- 'hello' + x will give you an error to tell you that they cannot be added because they are different types of variables\n",
    "- will also tell you what line in the cell is the problem\n",
    "- will also catch syntax errors\n",
    "- will also catch name errors\n"
   ]
  },
  {
   "cell_type": "code",
   "execution_count": 4,
   "id": "f4d7137f-ec67-4318-a67a-967579399b9b",
   "metadata": {},
   "outputs": [
    {
     "name": "stdout",
     "output_type": "stream",
     "text": [
      "Help on built-in function print in module builtins:\n",
      "\n",
      "print(*args, sep=' ', end='\\n', file=None, flush=False)\n",
      "    Prints the values to a stream, or to sys.stdout by default.\n",
      "\n",
      "    sep\n",
      "      string inserted between values, default a space.\n",
      "    end\n",
      "      string appended after the last value, default a newline.\n",
      "    file\n",
      "      a file-like object (stream); defaults to the current sys.stdout.\n",
      "    flush\n",
      "      whether to forcibly flush the stream.\n",
      "\n"
     ]
    }
   ],
   "source": [
    "help(print)"
   ]
  },
  {
   "cell_type": "code",
   "execution_count": 5,
   "id": "afd923c0-1954-4630-bb14-38bcb65cf4aa",
   "metadata": {},
   "outputs": [],
   "source": [
    "x = 1+1\n",
    "text = 'hello world'"
   ]
  },
  {
   "cell_type": "code",
   "execution_count": 6,
   "id": "05ba390e-c2b1-4822-b389-ec9284978f80",
   "metadata": {},
   "outputs": [
    {
     "data": {
      "text/plain": [
       "2"
      ]
     },
     "execution_count": 6,
     "metadata": {},
     "output_type": "execute_result"
    }
   ],
   "source": [
    "x"
   ]
  },
  {
   "cell_type": "code",
   "execution_count": 7,
   "id": "8a0be146-4b85-49c0-9649-24609d12a398",
   "metadata": {},
   "outputs": [],
   "source": [
    "a,b,c = 1,2,3"
   ]
  },
  {
   "cell_type": "code",
   "execution_count": 8,
   "id": "4be00824-0891-48e4-a403-fb46b1fd6ce6",
   "metadata": {},
   "outputs": [
    {
     "data": {
      "text/plain": [
       "1"
      ]
     },
     "execution_count": 8,
     "metadata": {},
     "output_type": "execute_result"
    }
   ],
   "source": [
    "a"
   ]
  },
  {
   "cell_type": "code",
   "execution_count": 9,
   "id": "2d62f9b7-e309-4675-a652-f4a81f9c7acf",
   "metadata": {},
   "outputs": [
    {
     "data": {
      "text/plain": [
       "2"
      ]
     },
     "execution_count": 9,
     "metadata": {},
     "output_type": "execute_result"
    }
   ],
   "source": [
    "b"
   ]
  },
  {
   "cell_type": "code",
   "execution_count": 10,
   "id": "d6e1855c-d72e-4373-8ab1-4f81da9e73ae",
   "metadata": {},
   "outputs": [],
   "source": [
    "x = y = z = 10"
   ]
  },
  {
   "cell_type": "code",
   "execution_count": 11,
   "id": "26035e6c-552e-4641-af5d-20a8b3332acf",
   "metadata": {},
   "outputs": [
    {
     "data": {
      "text/plain": [
       "10"
      ]
     },
     "execution_count": 11,
     "metadata": {},
     "output_type": "execute_result"
    }
   ],
   "source": [
    "x"
   ]
  },
  {
   "cell_type": "code",
   "execution_count": 12,
   "id": "1e65bd34-75cc-4a65-88b4-c74c6c5290f2",
   "metadata": {},
   "outputs": [
    {
     "data": {
      "text/plain": [
       "3"
      ]
     },
     "execution_count": 12,
     "metadata": {},
     "output_type": "execute_result"
    }
   ],
   "source": [
    "a + b"
   ]
  },
  {
   "cell_type": "code",
   "execution_count": 13,
   "id": "897b5355-1e27-4c33-81db-f70a3891d92f",
   "metadata": {},
   "outputs": [
    {
     "data": {
      "text/plain": [
       "20"
      ]
     },
     "execution_count": 13,
     "metadata": {},
     "output_type": "execute_result"
    }
   ],
   "source": [
    "x + y"
   ]
  },
  {
   "cell_type": "code",
   "execution_count": 14,
   "id": "3404d77d-561b-472a-84de-35cce37dbce4",
   "metadata": {},
   "outputs": [
    {
     "ename": "TypeError",
     "evalue": "can only concatenate str (not \"int\") to str",
     "output_type": "error",
     "traceback": [
      "\u001b[1;31m---------------------------------------------------------------------------\u001b[0m",
      "\u001b[1;31mTypeError\u001b[0m                                 Traceback (most recent call last)",
      "Cell \u001b[1;32mIn[14], line 1\u001b[0m\n\u001b[1;32m----> 1\u001b[0m \u001b[38;5;124m'\u001b[39m\u001b[38;5;124mhello\u001b[39m\u001b[38;5;124m'\u001b[39m \u001b[38;5;241m+\u001b[39m x\n",
      "\u001b[1;31mTypeError\u001b[0m: can only concatenate str (not \"int\") to str"
     ]
    }
   ],
   "source": [
    "'hello' + x"
   ]
  },
  {
   "cell_type": "code",
   "execution_count": 15,
   "id": "92802cef-12b3-462b-a8ec-a66584c9cc38",
   "metadata": {},
   "outputs": [
    {
     "data": {
      "text/plain": [
       "int"
      ]
     },
     "execution_count": 15,
     "metadata": {},
     "output_type": "execute_result"
    }
   ],
   "source": [
    "type(x)"
   ]
  },
  {
   "cell_type": "code",
   "execution_count": 16,
   "id": "f66e113b-3351-4bd1-83da-ea93dfdd6588",
   "metadata": {},
   "outputs": [
    {
     "ename": "NameError",
     "evalue": "name 'myVar' is not defined",
     "output_type": "error",
     "traceback": [
      "\u001b[1;31m---------------------------------------------------------------------------\u001b[0m",
      "\u001b[1;31mNameError\u001b[0m                                 Traceback (most recent call last)",
      "Cell \u001b[1;32mIn[16], line 1\u001b[0m\n\u001b[1;32m----> 1\u001b[0m \u001b[38;5;28mprint\u001b[39m(myVar)\n",
      "\u001b[1;31mNameError\u001b[0m: name 'myVar' is not defined"
     ]
    }
   ],
   "source": [
    "print(myVar)"
   ]
  },
  {
   "cell_type": "code",
   "execution_count": 17,
   "id": "4b7a06d6-a5c1-4abc-8f6a-c7343ea50122",
   "metadata": {},
   "outputs": [
    {
     "ename": "SyntaxError",
     "evalue": "invalid syntax (1374946978.py, line 1)",
     "output_type": "error",
     "traceback": [
      "\u001b[1;36m  Cell \u001b[1;32mIn[17], line 1\u001b[1;36m\u001b[0m\n\u001b[1;33m    print('my world'):\u001b[0m\n\u001b[1;37m                     ^\u001b[0m\n\u001b[1;31mSyntaxError\u001b[0m\u001b[1;31m:\u001b[0m invalid syntax\n"
     ]
    }
   ],
   "source": [
    "print('my world'):"
   ]
  },
  {
   "cell_type": "code",
   "execution_count": 18,
   "id": "16d76c91-6036-4a47-8dba-b18e86e8e93a",
   "metadata": {},
   "outputs": [
    {
     "ename": "NameError",
     "evalue": "name 'x' is not defined",
     "output_type": "error",
     "traceback": [
      "\u001b[1;31m---------------------------------------------------------------------------\u001b[0m",
      "\u001b[1;31mNameError\u001b[0m                                 Traceback (most recent call last)",
      "Cell \u001b[1;32mIn[18], line 2\u001b[0m\n\u001b[0;32m      1\u001b[0m \u001b[38;5;28;01mdel\u001b[39;00m(x)\n\u001b[1;32m----> 2\u001b[0m \u001b[38;5;28mprint\u001b[39m(x)\n",
      "\u001b[1;31mNameError\u001b[0m: name 'x' is not defined"
     ]
    }
   ],
   "source": [
    "del(x)\n",
    "print(x)"
   ]
  },
  {
   "cell_type": "code",
   "execution_count": 19,
   "id": "5034c81e-3b3c-46a1-9048-5a3e979efad2",
   "metadata": {},
   "outputs": [
    {
     "data": {
      "text/plain": [
       "'C:\\\\Users\\\\psych'"
      ]
     },
     "execution_count": 19,
     "metadata": {},
     "output_type": "execute_result"
    }
   ],
   "source": [
    "pwd"
   ]
  },
  {
   "cell_type": "code",
   "execution_count": 1,
   "id": "723414df-7e00-4666-be16-745fbc64203f",
   "metadata": {},
   "outputs": [],
   "source": [
    "myInt = 111"
   ]
  },
  {
   "cell_type": "code",
   "execution_count": 2,
   "id": "369b5a8a-a2d1-4f9d-a15d-8006440f85da",
   "metadata": {},
   "outputs": [],
   "source": [
    "myString = '111'"
   ]
  },
  {
   "cell_type": "code",
   "execution_count": 3,
   "id": "17b75caa-976c-4c85-86c0-f6f001f0227c",
   "metadata": {},
   "outputs": [
    {
     "data": {
      "text/plain": [
       "3"
      ]
     },
     "execution_count": 3,
     "metadata": {},
     "output_type": "execute_result"
    }
   ],
   "source": [
    "len(myString)"
   ]
  },
  {
   "cell_type": "markdown",
   "id": "2e6d76f4-3d6d-491f-82f0-6ce19aeb4844",
   "metadata": {},
   "source": [
    "## Class Notes Con't\n",
    "\n",
    "##### Indexing \n",
    "- len will tell us how long the variable is\n",
    "- '111' is 3\n",
    "- 'hello world' is 11 becauses of the space\n",
    "- every value in the string has an index\n",
    "- python uses 0 indexing, which means that with 'hello world,' h is 0\n",
    "- *everything starts at 0*\n",
    "- [] String slicing, put the value in the [] that you want to slice\n"
   ]
  },
  {
   "cell_type": "code",
   "execution_count": 4,
   "id": "06352a8f-04fb-4a65-9c84-7ee0724aeb5e",
   "metadata": {},
   "outputs": [
    {
     "data": {
      "text/plain": [
       "11"
      ]
     },
     "execution_count": 4,
     "metadata": {},
     "output_type": "execute_result"
    }
   ],
   "source": [
    "myString= 'hello world'\n",
    "len(myString)"
   ]
  },
  {
   "cell_type": "code",
   "execution_count": 5,
   "id": "721f2567-f718-4c85-aef4-b29cbe3b2774",
   "metadata": {},
   "outputs": [
    {
     "data": {
      "text/plain": [
       "'l'"
      ]
     },
     "execution_count": 5,
     "metadata": {},
     "output_type": "execute_result"
    }
   ],
   "source": [
    "myString[2]"
   ]
  },
  {
   "cell_type": "code",
   "execution_count": 6,
   "id": "55675eb9-3fea-4ece-8c90-8b751e05a1bc",
   "metadata": {},
   "outputs": [
    {
     "ename": "NameError",
     "evalue": "name 'str_object' is not defined",
     "output_type": "error",
     "traceback": [
      "\u001b[1;31m---------------------------------------------------------------------------\u001b[0m",
      "\u001b[1;31mNameError\u001b[0m                                 Traceback (most recent call last)",
      "Cell \u001b[1;32mIn[6], line 1\u001b[0m\n\u001b[1;32m----> 1\u001b[0m str_object [start_pos:end_pos:step]\n",
      "\u001b[1;31mNameError\u001b[0m: name 'str_object' is not defined"
     ]
    }
   ],
   "source": [
    "str_object [start_pos:end_pos:step]"
   ]
  },
  {
   "cell_type": "code",
   "execution_count": 7,
   "id": "df5dd6ac-3a6e-4c4a-be03-777196132119",
   "metadata": {},
   "outputs": [
    {
     "data": {
      "text/plain": [
       "'ello'"
      ]
     },
     "execution_count": 7,
     "metadata": {},
     "output_type": "execute_result"
    }
   ],
   "source": [
    "myString[1:5]"
   ]
  },
  {
   "cell_type": "markdown",
   "id": "9bf0357c-a124-45af-8b1b-3e1b347b383d",
   "metadata": {},
   "source": [
    "*Above Error:*\n",
    "- str_object must be clarified, start is the number you want to start at then end is where you want it to stop when listing in the variable"
   ]
  },
  {
   "cell_type": "code",
   "execution_count": 8,
   "id": "10c19e25-3249-4272-9cb3-0dad347dbeab",
   "metadata": {},
   "outputs": [
    {
     "ename": "NameError",
     "evalue": "name 'newString' is not defined",
     "output_type": "error",
     "traceback": [
      "\u001b[1;31m---------------------------------------------------------------------------\u001b[0m",
      "\u001b[1;31mNameError\u001b[0m                                 Traceback (most recent call last)",
      "Cell \u001b[1;32mIn[8], line 1\u001b[0m\n\u001b[1;32m----> 1\u001b[0m newString[\u001b[38;5;241m1\u001b[39m:\u001b[38;5;241m9\u001b[39m:\u001b[38;5;241m2\u001b[39m]\n",
      "\u001b[1;31mNameError\u001b[0m: name 'newString' is not defined"
     ]
    }
   ],
   "source": [
    "newString[1:9:2]"
   ]
  },
  {
   "cell_type": "code",
   "execution_count": 9,
   "id": "ce40cd38-7682-41d2-8b09-8d55e8ad5df0",
   "metadata": {},
   "outputs": [
    {
     "data": {
      "text/plain": [
       "'el o'"
      ]
     },
     "execution_count": 9,
     "metadata": {},
     "output_type": "execute_result"
    }
   ],
   "source": [
    "myString[1:9:2]"
   ]
  },
  {
   "cell_type": "code",
   "execution_count": 10,
   "id": "f47f5550-7227-43ed-87b0-9e9da4677c13",
   "metadata": {},
   "outputs": [
    {
     "data": {
      "text/plain": [
       "'drwo'"
      ]
     },
     "execution_count": 10,
     "metadata": {},
     "output_type": "execute_result"
    }
   ],
   "source": [
    "myString[-1:2:-2]"
   ]
  },
  {
   "cell_type": "markdown",
   "id": "f01c639b-de45-412f-b5ef-4d7e00bd7c51",
   "metadata": {},
   "source": [
    "*Explanation for above*\n",
    "-1 means that it went to the last value \n",
    "so anything negative means it starts from the back instead of forward to back"
   ]
  },
  {
   "cell_type": "code",
   "execution_count": 11,
   "id": "b2eb9bd6-995e-4858-b612-a9f536a3e99d",
   "metadata": {},
   "outputs": [
    {
     "data": {
      "text/plain": [
       "'hell'"
      ]
     },
     "execution_count": 11,
     "metadata": {},
     "output_type": "execute_result"
    }
   ],
   "source": [
    "myString[0:4]"
   ]
  },
  {
   "cell_type": "code",
   "execution_count": 12,
   "id": "df61148f-84a5-4d69-9c7d-32da0a895411",
   "metadata": {},
   "outputs": [
    {
     "data": {
      "text/plain": [
       "'hello'"
      ]
     },
     "execution_count": 12,
     "metadata": {},
     "output_type": "execute_result"
    }
   ],
   "source": [
    "myString[0:5]"
   ]
  },
  {
   "cell_type": "code",
   "execution_count": 13,
   "id": "d3b40506-9077-4483-91d6-fb074aa25d31",
   "metadata": {},
   "outputs": [
    {
     "data": {
      "text/plain": [
       "'orld'"
      ]
     },
     "execution_count": 13,
     "metadata": {},
     "output_type": "execute_result"
    }
   ],
   "source": [
    "myString [7:11]"
   ]
  },
  {
   "cell_type": "code",
   "execution_count": 14,
   "id": "19ed6376-fefd-4ae7-8829-bd53ccd72d3f",
   "metadata": {},
   "outputs": [
    {
     "data": {
      "text/plain": [
       "'world'"
      ]
     },
     "execution_count": 14,
     "metadata": {},
     "output_type": "execute_result"
    }
   ],
   "source": [
    "myString [6:11]"
   ]
  },
  {
   "cell_type": "code",
   "execution_count": 15,
   "id": "0c77d3d2-778b-4d76-98a1-53b07f18b69d",
   "metadata": {},
   "outputs": [
    {
     "ename": "SyntaxError",
     "evalue": "invalid syntax (2128518894.py, line 1)",
     "output_type": "error",
     "traceback": [
      "\u001b[1;36m  Cell \u001b[1;32mIn[15], line 1\u001b[1;36m\u001b[0m\n\u001b[1;33m    myString[1:2:4:6:8:10]\u001b[0m\n\u001b[1;37m                  ^\u001b[0m\n\u001b[1;31mSyntaxError\u001b[0m\u001b[1;31m:\u001b[0m invalid syntax\n"
     ]
    }
   ],
   "source": [
    "myString[1:2:4:6:8:10]"
   ]
  },
  {
   "cell_type": "code",
   "execution_count": 16,
   "id": "589b2036-c967-4002-b30f-3af99e101f8c",
   "metadata": {},
   "outputs": [
    {
     "data": {
      "text/plain": [
       "'eood'"
      ]
     },
     "execution_count": 16,
     "metadata": {},
     "output_type": "execute_result"
    }
   ],
   "source": [
    "myString [1:11:3]"
   ]
  },
  {
   "cell_type": "code",
   "execution_count": 17,
   "id": "f65fb128-1552-4b95-b663-2acf50e45555",
   "metadata": {},
   "outputs": [
    {
     "ename": "TypeError",
     "evalue": "slice indices must be integers or None or have an __index__ method",
     "output_type": "error",
     "traceback": [
      "\u001b[1;31m---------------------------------------------------------------------------\u001b[0m",
      "\u001b[1;31mTypeError\u001b[0m                                 Traceback (most recent call last)",
      "Cell \u001b[1;32mIn[17], line 1\u001b[0m\n\u001b[1;32m----> 1\u001b[0m myString[\u001b[38;5;241m1\u001b[39m:\u001b[38;5;241m11\u001b[39m:\u001b[38;5;241m1.5\u001b[39m]\n",
      "\u001b[1;31mTypeError\u001b[0m: slice indices must be integers or None or have an __index__ method"
     ]
    }
   ],
   "source": [
    "myString[1:11:1.5]"
   ]
  },
  {
   "cell_type": "code",
   "execution_count": 18,
   "id": "125615f8-a92b-4ae2-953e-125fece87e46",
   "metadata": {},
   "outputs": [
    {
     "data": {
      "text/plain": [
       "''"
      ]
     },
     "execution_count": 18,
     "metadata": {},
     "output_type": "execute_result"
    }
   ],
   "source": [
    "myString[-1:-11]"
   ]
  },
  {
   "cell_type": "code",
   "execution_count": 19,
   "id": "84c5de21-79b3-464f-a75b-601730dbeb1d",
   "metadata": {},
   "outputs": [
    {
     "data": {
      "text/plain": [
       "''"
      ]
     },
     "execution_count": 19,
     "metadata": {},
     "output_type": "execute_result"
    }
   ],
   "source": [
    "myString[-2:-10]"
   ]
  },
  {
   "cell_type": "code",
   "execution_count": 20,
   "id": "8b5cd4b2-33df-49bd-af0f-034cc3b5b2d1",
   "metadata": {},
   "outputs": [
    {
     "data": {
      "text/plain": [
       "''"
      ]
     },
     "execution_count": 20,
     "metadata": {},
     "output_type": "execute_result"
    }
   ],
   "source": [
    "myString[0:-11]"
   ]
  },
  {
   "cell_type": "code",
   "execution_count": 21,
   "id": "46fddce9-1f65-420a-b11d-55fbff23c8fc",
   "metadata": {},
   "outputs": [
    {
     "data": {
      "text/plain": [
       "'dlrow olle'"
      ]
     },
     "execution_count": 21,
     "metadata": {},
     "output_type": "execute_result"
    }
   ],
   "source": [
    "myString[-1:0:-1]"
   ]
  },
  {
   "cell_type": "code",
   "execution_count": 22,
   "id": "4bad0a33-5c4d-4af9-877d-20db818f1317",
   "metadata": {},
   "outputs": [
    {
     "data": {
      "text/plain": [
       "''"
      ]
     },
     "execution_count": 22,
     "metadata": {},
     "output_type": "execute_result"
    }
   ],
   "source": [
    "myString[-1:12:-1]"
   ]
  },
  {
   "cell_type": "code",
   "execution_count": 23,
   "id": "3dc60874-39af-4741-b6f4-21b36e021033",
   "metadata": {},
   "outputs": [
    {
     "data": {
      "text/plain": [
       "'dlrow olleh'"
      ]
     },
     "execution_count": 23,
     "metadata": {},
     "output_type": "execute_result"
    }
   ],
   "source": [
    "myString[-1:-12:-1]"
   ]
  },
  {
   "cell_type": "markdown",
   "id": "1436ba1d-63a4-4bf3-a4ee-f67a3882f3be",
   "metadata": {},
   "source": [
    "*note* make sure you clarify the step because otherwise it doesn't know how to list it\n",
    "also when doing the range, do whatever it is and add one to the end number to ensure it includes the one you're looking for (-12 instead of -11 to catch h)"
   ]
  },
  {
   "cell_type": "code",
   "execution_count": 24,
   "id": "07968d93-e885-4320-9ede-05c24ca51dc2",
   "metadata": {},
   "outputs": [
    {
     "data": {
      "text/plain": [
       "'hlowrd'"
      ]
     },
     "execution_count": 24,
     "metadata": {},
     "output_type": "execute_result"
    }
   ],
   "source": [
    "myString[0:12:2]"
   ]
  },
  {
   "cell_type": "markdown",
   "id": "8e3ded4c-41c6-49c9-b357-4fdea854aec6",
   "metadata": {},
   "source": [
    "##### Lists, Tuples, Sets & Dictionaries\n",
    "- Lists are created using [], things in the list are separated by a comma\n",
    "- Lists are ordered - will not change and new items will be added to the end (some exceptions)\n",
    "- These are also indexed with the first being zero\n",
    "- Lists can also be changed\n",
    "- Lists can be different types\n",
    "- Append will append the item as if to the list\n",
    "- Extend will add it to the list as if it's part of list (see below)\n",
    "- Insert will allow you to add it to a spot in the list (it does not overrided the thing in the third spot)\n",
    "- remove will remove the first instance of what you're asking it to\n",
    "- del will remove too\n",
    "- pop will remove and return the element at position\n",
    "- clear will clear the list"
   ]
  },
  {
   "cell_type": "code",
   "execution_count": 25,
   "id": "ab07fe98-3877-45d4-a6e9-60def04bcf94",
   "metadata": {},
   "outputs": [],
   "source": [
    "drinks = [\"whiskey\", \"vodka\", \"lager\", \"cider\"]"
   ]
  },
  {
   "cell_type": "code",
   "execution_count": 26,
   "id": "76d66b29-4bd5-4040-98dc-be15049a8dae",
   "metadata": {},
   "outputs": [],
   "source": [
    "drinks[3]= \"tequila\""
   ]
  },
  {
   "cell_type": "code",
   "execution_count": 27,
   "id": "00b42b93-7eeb-46c0-a208-10271aeb478a",
   "metadata": {},
   "outputs": [
    {
     "data": {
      "text/plain": [
       "['whiskey', 'vodka', 'lager', 'tequila']"
      ]
     },
     "execution_count": 27,
     "metadata": {},
     "output_type": "execute_result"
    }
   ],
   "source": [
    "drinks[0:5:1]"
   ]
  },
  {
   "cell_type": "code",
   "execution_count": 28,
   "id": "5f721422-0e17-4ebd-a5bd-4d92301bbd58",
   "metadata": {},
   "outputs": [],
   "source": [
    "drinks[1]= 101"
   ]
  },
  {
   "cell_type": "code",
   "execution_count": 29,
   "id": "8f5bd2ba-8a3a-493b-b8f4-c98dbf2aa530",
   "metadata": {},
   "outputs": [
    {
     "data": {
      "text/plain": [
       "list"
      ]
     },
     "execution_count": 29,
     "metadata": {},
     "output_type": "execute_result"
    }
   ],
   "source": [
    "type(drinks)"
   ]
  },
  {
   "cell_type": "code",
   "execution_count": 30,
   "id": "473d0159-c652-44e3-a117-8040815ce0b7",
   "metadata": {},
   "outputs": [],
   "source": [
    "shots = drinks[0]"
   ]
  },
  {
   "cell_type": "code",
   "execution_count": 31,
   "id": "6663c877-55d5-4eb1-a995-2482d4ba1464",
   "metadata": {},
   "outputs": [
    {
     "name": "stdout",
     "output_type": "stream",
     "text": [
      "whiskey\n"
     ]
    }
   ],
   "source": [
    "print(shots)"
   ]
  },
  {
   "cell_type": "code",
   "execution_count": 32,
   "id": "5065d6ab-0b16-4a07-ac74-cc4bb5fa18fa",
   "metadata": {},
   "outputs": [
    {
     "data": {
      "text/plain": [
       "['lager', 'tequila']"
      ]
     },
     "execution_count": 32,
     "metadata": {},
     "output_type": "execute_result"
    }
   ],
   "source": [
    "drinks[2:4]"
   ]
  },
  {
   "cell_type": "code",
   "execution_count": 33,
   "id": "fe94c26c-233d-413f-b67a-2bcbc7c8409f",
   "metadata": {},
   "outputs": [
    {
     "ename": "NameError",
     "evalue": "name 'myList' is not defined",
     "output_type": "error",
     "traceback": [
      "\u001b[1;31m---------------------------------------------------------------------------\u001b[0m",
      "\u001b[1;31mNameError\u001b[0m                                 Traceback (most recent call last)",
      "Cell \u001b[1;32mIn[33], line 1\u001b[0m\n\u001b[1;32m----> 1\u001b[0m myList\u001b[38;5;241m.\u001b[39mappend(\u001b[38;5;124m'\u001b[39m\u001b[38;5;124mwine\u001b[39m\u001b[38;5;124m'\u001b[39m)\n",
      "\u001b[1;31mNameError\u001b[0m: name 'myList' is not defined"
     ]
    }
   ],
   "source": [
    "myList.append('wine')"
   ]
  },
  {
   "cell_type": "code",
   "execution_count": 34,
   "id": "30f316f9-0f94-4801-9569-ee4abc4f52a1",
   "metadata": {},
   "outputs": [],
   "source": [
    "myList=drinks"
   ]
  },
  {
   "cell_type": "code",
   "execution_count": 35,
   "id": "80413cf6-c898-459e-b13a-83a50beaf685",
   "metadata": {},
   "outputs": [],
   "source": [
    "myList.append('wine')"
   ]
  },
  {
   "cell_type": "code",
   "execution_count": 36,
   "id": "5f7489e6-0a77-4341-8236-05b702c8066e",
   "metadata": {},
   "outputs": [
    {
     "name": "stdout",
     "output_type": "stream",
     "text": [
      "['whiskey', 101, 'lager', 'tequila', 'wine']\n"
     ]
    }
   ],
   "source": [
    "print(drinks)"
   ]
  },
  {
   "cell_type": "code",
   "execution_count": 37,
   "id": "a8b035b4-64a8-4d4b-b61e-ac502cafa59b",
   "metadata": {},
   "outputs": [
    {
     "data": {
      "text/plain": [
       "5"
      ]
     },
     "execution_count": 37,
     "metadata": {},
     "output_type": "execute_result"
    }
   ],
   "source": [
    "len(drinks)"
   ]
  },
  {
   "cell_type": "code",
   "execution_count": 38,
   "id": "f036f612-213b-4d21-9a7c-7dc0e00a5f27",
   "metadata": {},
   "outputs": [],
   "source": [
    "newDrinks=['beer', 'water']"
   ]
  },
  {
   "cell_type": "code",
   "execution_count": 39,
   "id": "2f634279-cc69-4347-ae46-97ca75a54a0f",
   "metadata": {},
   "outputs": [],
   "source": [
    "drinks.append(newDrinks)"
   ]
  },
  {
   "cell_type": "code",
   "execution_count": 40,
   "id": "997ca157-596e-4cca-90a5-a009502b984c",
   "metadata": {},
   "outputs": [
    {
     "name": "stdout",
     "output_type": "stream",
     "text": [
      "['whiskey', 101, 'lager', 'tequila', 'wine', ['beer', 'water']]\n"
     ]
    }
   ],
   "source": [
    "print(drinks)"
   ]
  },
  {
   "cell_type": "code",
   "execution_count": 41,
   "id": "062bb591-07a5-4008-8670-7fcfc72a066d",
   "metadata": {},
   "outputs": [],
   "source": [
    "drinks.extend(newDrinks)"
   ]
  },
  {
   "cell_type": "code",
   "execution_count": 42,
   "id": "5fe4e2c0-bba3-448d-9377-b97ba0c74fcb",
   "metadata": {},
   "outputs": [
    {
     "name": "stdout",
     "output_type": "stream",
     "text": [
      "['whiskey', 101, 'lager', 'tequila', 'wine', ['beer', 'water'], 'beer', 'water']\n"
     ]
    }
   ],
   "source": [
    "print(drinks)"
   ]
  },
  {
   "cell_type": "code",
   "execution_count": 43,
   "id": "637fd09b-c3e3-4def-9a8b-4b3feade864b",
   "metadata": {},
   "outputs": [
    {
     "name": "stdout",
     "output_type": "stream",
     "text": [
      "['whiskey', 101, 'lager', 'iced tea', 'tequila', 'wine', ['beer', 'water'], 'beer', 'water']\n"
     ]
    }
   ],
   "source": [
    "myList.insert(3,'iced tea')\n",
    "print(drinks)"
   ]
  },
  {
   "cell_type": "markdown",
   "id": "8b8dcafb-616f-44b3-8e02-7a9cb8efe00d",
   "metadata": {},
   "source": [
    "##### Tuples\n",
    "- () created with round brackets\n",
    "- ordered and unchanged\n",
    "\n",
    "##### Set\n",
    "- unordered, unchangeable, and unindex\n",
    "  \n",
    "##### Dictionary\n",
    "- Ordered,changeable but only has a set list of options "
   ]
  },
  {
   "cell_type": "markdown",
   "id": "571e5098-e5cf-4a93-b4f6-65f7130198b0",
   "metadata": {},
   "source": [
    "##### Conditionals\n",
    "- if - then statements, if x is true, do this; if it is false, do this\n",
    "- called boolean values\n",
    "- uses ==, !=, >,<, <=, >=\n",
    "- if is a special statement (only one)\n",
    "- if statement followed by conditional then :\n",
    "- also space sensitive (require indent)\n",
    "- elif - else if, if the if statement isn't true then elif statement (can have as many as you want)\n",
    "- else statement - if nothing is true, this is the statement of what to do (only one of these)"
   ]
  },
  {
   "cell_type": "code",
   "execution_count": 1,
   "id": "a5e24b7d-6734-4605-b412-2d2669cbf5fb",
   "metadata": {},
   "outputs": [
    {
     "name": "stdout",
     "output_type": "stream",
     "text": [
      "a is greater than b\n"
     ]
    }
   ],
   "source": [
    "a = 200\n",
    "b = 33\n",
    "if b>a:\n",
    "    print (\"b is greater than a\")\n",
    "elif a == b:\n",
    "    print (\"a and b are equal\")\n",
    "else:\n",
    "    print (\"a is greater than b\")"
   ]
  },
  {
   "cell_type": "markdown",
   "id": "2a5e0392-073d-46de-9eae-2c6f479336b9",
   "metadata": {},
   "source": [
    "##### Match & Case\n",
    "- like an if statement, but has only a limited set of options\n",
    "- match is like if "
   ]
  },
  {
   "cell_type": "code",
   "execution_count": 2,
   "id": "800a2d69-7d9e-4660-9cab-e731e1e623a4",
   "metadata": {},
   "outputs": [
    {
     "name": "stdout",
     "output_type": "stream",
     "text": [
      "Thursday\n"
     ]
    }
   ],
   "source": [
    "day = 4\n",
    "match day: \n",
    "    case 1:\n",
    "        print(\"Monday\")\n",
    "    case 2: \n",
    "        print(\"Tuesday\")\n",
    "    case 3: \n",
    "        print (\"Wednesday\")\n",
    "    case 4:\n",
    "        print (\"Thursday\")\n"
   ]
  },
  {
   "cell_type": "code",
   "execution_count": 3,
   "id": "f1580e73-932d-47f0-b28f-227f0d0656b9",
   "metadata": {},
   "outputs": [
    {
     "name": "stderr",
     "output_type": "stream",
     "text": [
      "'touch' is not recognized as an internal or external command,\n",
      "operable program or batch file.\n"
     ]
    }
   ],
   "source": [
    "!touch tmp.txt"
   ]
  },
  {
   "cell_type": "code",
   "execution_count": 4,
   "id": "eb882126-f093-4c28-9047-9533424faf61",
   "metadata": {},
   "outputs": [
    {
     "name": "stdin",
     "output_type": "stream",
     "text": [
      "Eryka : BCN \n"
     ]
    }
   ],
   "source": [
    "name = input(\"Eryka : BCN\")"
   ]
  },
  {
   "cell_type": "code",
   "execution_count": 5,
   "id": "f06f4961-cee4-4c18-a771-cf73b73b4ced",
   "metadata": {},
   "outputs": [
    {
     "ename": "SyntaxError",
     "evalue": "unterminated string literal (detected at line 1) (68606115.py, line 1)",
     "output_type": "error",
     "traceback": [
      "\u001b[1;36m  Cell \u001b[1;32mIn[5], line 1\u001b[1;36m\u001b[0m\n\u001b[1;33m    name = input ('Enter your name : \")\u001b[0m\n\u001b[1;37m                  ^\u001b[0m\n\u001b[1;31mSyntaxError\u001b[0m\u001b[1;31m:\u001b[0m unterminated string literal (detected at line 1)\n"
     ]
    }
   ],
   "source": [
    "name = input ('Enter your name : \")"
   ]
  },
  {
   "cell_type": "code",
   "execution_count": 13,
   "id": "043d9c86-4dde-4dd6-ba42-07428ecf798b",
   "metadata": {},
   "outputs": [
    {
     "name": "stdin",
     "output_type": "stream",
     "text": [
      "enter your name:  \n"
     ]
    },
    {
     "name": "stdout",
     "output_type": "stream",
     "text": [
      "your area is:SP\n"
     ]
    }
   ],
   "source": [
    "name = input('enter your name: ')\n",
    "if name == 'Mimi':\n",
    "    area = 'BCN'\n",
    "else:\n",
    "    nameLen = len(name)\n",
    "    if nameLen <=4:\n",
    "        area = 'SP'\n",
    "    elif nameLen >4 and nameLen <=7:\n",
    "        area ='LD'\n",
    "    else:\n",
    "        area ='BCN'\n",
    "print(\"your area is:\" + area)"
   ]
  },
  {
   "cell_type": "code",
   "execution_count": null,
   "id": "fde5ed9c-39c6-4250-b302-7f7441e81965",
   "metadata": {},
   "outputs": [],
   "source": []
  }
 ],
 "metadata": {
  "kernelspec": {
   "display_name": "Python [conda env:base] *",
   "language": "python",
   "name": "conda-base-py"
  },
  "language_info": {
   "codemirror_mode": {
    "name": "ipython",
    "version": 3
   },
   "file_extension": ".py",
   "mimetype": "text/x-python",
   "name": "python",
   "nbconvert_exporter": "python",
   "pygments_lexer": "ipython3",
   "version": "3.13.5"
  }
 },
 "nbformat": 4,
 "nbformat_minor": 5
}
